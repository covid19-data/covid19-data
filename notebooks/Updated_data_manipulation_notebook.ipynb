{
 "cells": [
  {
   "cell_type": "code",
   "execution_count": 1,
   "metadata": {},
   "outputs": [],
   "source": [
    "import pandas as pd\n",
    "import numpy as np\n",
    "import json\n",
    "import math"
   ]
  },
  {
   "cell_type": "code",
   "execution_count": 2,
   "metadata": {},
   "outputs": [],
   "source": [
    "df = pd.read_csv(\"https://covid.ourworldindata.org/data/owid-covid-data.csv\", \n",
    "                     index_col = ['date'],\n",
    "                     parse_dates = True, \n",
    "                     usecols=[\"date\", \"iso_code\", \"location\", \n",
    "                              \"population\", \"continent\",\n",
    "                              \"total_cases\", \"total_deaths\"]).rename(\n",
    "    columns = {'iso_code': 'country_code', 'location': 'country_name'}\n",
    ")"
   ]
  },
  {
   "cell_type": "code",
   "execution_count": 3,
   "metadata": {},
   "outputs": [],
   "source": [
    "# prepare metadata from World Bank\n",
    "metadata = pd.read_csv(\"https://raw.githubusercontent.com/hongtaoh/covid19-data/master/data_sources/metadata/worldbank/country_metadata.csv\",\n",
    "                      usecols=[\"Country Code\", \"Region\"]).rename(\n",
    "    columns = {'Country Code': 'country_code', 'Region': 'world_region'}\n",
    ")"
   ]
  },
  {
   "cell_type": "code",
   "execution_count": 4,
   "metadata": {},
   "outputs": [],
   "source": [
    "all_dates = pd.date_range(df.index.min(), df.index.max())"
   ]
  },
  {
   "cell_type": "code",
   "execution_count": 5,
   "metadata": {},
   "outputs": [],
   "source": [
    "def get_fallBehind_place_date_dateframe(df): # input should be df\n",
    "    fallBehind_place_list = []\n",
    "    fallBehind_last_date_available_list = []\n",
    "    fallBehind_last_date_index_list = []\n",
    "    for group in df.groupby(\"country_code\"):\n",
    "        if group[1].tail(1).index != df.index.max():\n",
    "            fallBehind_place_list.append(group[0])\n",
    "    for p in fallBehind_place_list:\n",
    "        fallBehind_last_date_index_list.append(all_dates.get_loc(\n",
    "            df[df.loc[:, 'country_code']== p].index[-1].strftime(\"%Y-%m-%d\")))\n",
    "        fallBehind_last_date_available_list.append(\n",
    "            df[df.loc[:, 'country_code']== p].index[-1].strftime(\"%Y-%m-%d\"))\n",
    "    d = {'fallBehind_place': fallBehind_place_list, \n",
    "         'fallBehind_last_date_available': fallBehind_last_date_available_list,\n",
    "         'fallBehind_last_date_index': fallBehind_last_date_index_list}\n",
    "    fallBehind_list = pd.DataFrame(data = d)\n",
    "    return fallBehind_list"
   ]
  },
  {
   "cell_type": "code",
   "execution_count": 6,
   "metadata": {},
   "outputs": [
    {
     "data": {
      "text/html": [
       "<div>\n",
       "<style scoped>\n",
       "    .dataframe tbody tr th:only-of-type {\n",
       "        vertical-align: middle;\n",
       "    }\n",
       "\n",
       "    .dataframe tbody tr th {\n",
       "        vertical-align: top;\n",
       "    }\n",
       "\n",
       "    .dataframe thead th {\n",
       "        text-align: right;\n",
       "    }\n",
       "</style>\n",
       "<table border=\"1\" class=\"dataframe\">\n",
       "  <thead>\n",
       "    <tr style=\"text-align: right;\">\n",
       "      <th></th>\n",
       "      <th>fallBehind_place</th>\n",
       "      <th>fallBehind_last_date_available</th>\n",
       "      <th>fallBehind_last_date_index</th>\n",
       "    </tr>\n",
       "  </thead>\n",
       "  <tbody>\n",
       "    <tr>\n",
       "      <th>0</th>\n",
       "      <td>BEL</td>\n",
       "      <td>2020-11-11</td>\n",
       "      <td>316</td>\n",
       "    </tr>\n",
       "    <tr>\n",
       "      <th>1</th>\n",
       "      <td>ESP</td>\n",
       "      <td>2020-11-12</td>\n",
       "      <td>317</td>\n",
       "    </tr>\n",
       "    <tr>\n",
       "      <th>2</th>\n",
       "      <td>HKG</td>\n",
       "      <td>2020-11-03</td>\n",
       "      <td>308</td>\n",
       "    </tr>\n",
       "    <tr>\n",
       "      <th>3</th>\n",
       "      <td>SWE</td>\n",
       "      <td>2020-11-12</td>\n",
       "      <td>317</td>\n",
       "    </tr>\n",
       "  </tbody>\n",
       "</table>\n",
       "</div>"
      ],
      "text/plain": [
       "  fallBehind_place fallBehind_last_date_available  fallBehind_last_date_index\n",
       "0              BEL                     2020-11-11                         316\n",
       "1              ESP                     2020-11-12                         317\n",
       "2              HKG                     2020-11-03                         308\n",
       "3              SWE                     2020-11-12                         317"
      ]
     },
     "execution_count": 6,
     "metadata": {},
     "output_type": "execute_result"
    }
   ],
   "source": [
    "fallBehind_list = get_fallBehind_place_date_dateframe(df)\n",
    "fallBehind_list"
   ]
  },
  {
   "cell_type": "code",
   "execution_count": 7,
   "metadata": {},
   "outputs": [],
   "source": [
    "def extract_cntry_dfs(df): \n",
    "    dfs = []\n",
    "    for group in df.groupby(\"country_code\"):\n",
    "        cntry_df = (\n",
    "            group[1].reindex(all_dates, method=\"pad\")\n",
    "        )\n",
    "        cntry_df[\"total_cases\"] = cntry_df[\"total_cases\"]\n",
    "        cntry_df[\"total_deaths\"] = cntry_df[\"total_deaths\"]\n",
    "        cntry_df[\"country_code\"] = group[0]\n",
    "        cntry_df[\"country_name\"] = group[1][\"country_name\"][-1]\n",
    "        cntry_df[\"continent\"] = group[1][\"continent\"][-1]\n",
    "        cntry_df[\"population\"] = group[1][\"population\"][-1]\n",
    "        dfs.append(\n",
    "            cntry_df\n",
    "        )\n",
    "    return dfs"
   ]
  },
  {
   "cell_type": "code",
   "execution_count": 8,
   "metadata": {},
   "outputs": [],
   "source": [
    "dfs = extract_cntry_dfs(df)"
   ]
  },
  {
   "cell_type": "code",
   "execution_count": 9,
   "metadata": {},
   "outputs": [],
   "source": [
    "def fill_first_case_death_with_zero(df): # input is dfs\n",
    "    for i in np.arange(0, len(df)):\n",
    "        if (df[i].head(1).total_cases.isnull()[0] & df[i].head(1).total_deaths.isnull()[0]):\n",
    "            df[i][0:1] = [df[i].country_code[-1],\n",
    "            df[i].continent[-1],\n",
    "            df[i].country_name[-1],\n",
    "            0,\n",
    "            0, \n",
    "            df[i].population[-1]\n",
    "            ]\n",
    "        if (df[i].head(1).total_cases.isnull()[0] & df[i].head(1).total_deaths.notnull()[0]):\n",
    "            df[i][0:1] = [df[i].country_code[-1],\n",
    "            df[i].continent[-1],\n",
    "            df[i].country_name[-1],\n",
    "            0,\n",
    "            df[i].total_deaths[0],\n",
    "            df[i].population[-1]\n",
    "            ]\n",
    "        if (df[i].head(1).total_cases.notnull()[0] & df[i].head(1).total_deaths.isnull()[0]):\n",
    "            df[i][0:1] = [df[i].country_code[-1],\n",
    "            df[i].continent[-1],\n",
    "            df[i].country_name[-1],\n",
    "            df[i].total_cases[0],\n",
    "            0,\n",
    "            df[i].population[-1]\n",
    "            ]\n",
    "    return df # output is the dfs with first case & death conditionally filled with zero. \n",
    "              # Later, I name this output to be \"dfs_first_zero_filled\" "
   ]
  },
  {
   "cell_type": "code",
   "execution_count": 10,
   "metadata": {},
   "outputs": [],
   "source": [
    "dfs_first_zero_filled = fill_first_case_death_with_zero(dfs)"
   ]
  },
  {
   "cell_type": "code",
   "execution_count": 11,
   "metadata": {},
   "outputs": [],
   "source": [
    "def merge_with_meta(df): #input should be dfs_first_zero_filled\n",
    "    concat_df = pd.concat(df).fillna(method=\"ffill\").reset_index().rename(\n",
    "        columns={\"index\": \"date\"})\n",
    "    #To change the original country codes of \"KOS\" and World to match metadata from WB:\n",
    "    concat_df.loc[(concat_df.country_code == \"OWID_KOS\"), ('country_code')] = \"XKX\"\n",
    "    concat_df.loc[(concat_df.country_code == \"OWID_WRL\"), ('country_code')] = \"WLD\"\n",
    "    # To get the column of \"world_region\" in concat_df by merging with WB metadata\n",
    "    left_join_df = pd.merge(concat_df, metadata, on = \"country_code\", how = \"left\")\n",
    "    left_join_df.loc[:,'date'] = left_join_df.loc[:,'date'].dt.strftime('%Y-%m-%d')\n",
    "    left_join_df.loc[(left_join_df.country_code == \"AIA\"), ('world_region')] = \"Latin America & Caribbean\"\n",
    "    left_join_df.loc[(left_join_df.country_code == \"BES\"), ('world_region')] = \"Latin America & Caribbean\"\n",
    "    left_join_df.loc[(left_join_df.country_code == \"ESH\"), ('world_region')] = \"Middle East & North Africa\"\n",
    "    left_join_df.loc[(left_join_df.country_code == \"FLK\"), ('world_region')] = \"Latin America & Caribbean\"\n",
    "    left_join_df.loc[(left_join_df.country_code == \"GGY\"), ('world_region')] = \"Europe & Central Asia\"\n",
    "    left_join_df.loc[(left_join_df.country_code == \"JEY\"), ('world_region')] = \"Europe & Central Asia\"\n",
    "    left_join_df.loc[(left_join_df.country_code == \"MSR\"), ('world_region')] = \"Latin America & Caribbean\"\n",
    "    left_join_df.loc[(left_join_df.country_code == \"TWN\"), ('world_region')] = \"East Asia & Pacific\"\n",
    "    left_join_df.loc[(left_join_df.country_code == \"VAT\"), ('world_region')] = \"Europe & Central Asia\"\n",
    "    left_join_df.loc[(left_join_df.country_code == \"WLF\"), ('world_region')] = \"East Asia & Pacific\"\n",
    "    left_join_df.loc[(left_join_df.country_code == \"WLD\"), ('world_region')] = \"World\"\n",
    "    return left_join_df"
   ]
  },
  {
   "cell_type": "code",
   "execution_count": 12,
   "metadata": {},
   "outputs": [],
   "source": [
    "left_join_df = merge_with_meta(dfs_first_zero_filled)"
   ]
  },
  {
   "cell_type": "code",
   "execution_count": 13,
   "metadata": {},
   "outputs": [],
   "source": [
    "# In the following step, I converted \n",
    "def fallBehind_filled_to_null (df): # input should be left_join_df\n",
    "    left_join_copy_group1_with_nan = []\n",
    "    for group in df.groupby('country_code'):\n",
    "        for i in np.arange(0, len(fallBehind_list)):\n",
    "            if group[1].tail(1).country_code.iloc[0] == fallBehind_list.iloc[i, 0]:\n",
    "                group[1].tail(len(all_dates) - 1 - fallBehind_list.iloc[i, 2]).total_cases = np.nan\n",
    "                group[1].tail(len(all_dates) - 1 - fallBehind_list.iloc[i, 2]).total_deaths = np.nan\n",
    "        left_join_copy_group1_with_nan.append(group[1])\n",
    "    left_join_copy_group1_with_nan_concated = pd.concat(left_join_copy_group1_with_nan)\n",
    "    left_join_copy_group1_concated_with_null = left_join_copy_group1_with_nan_concated\n",
    "    left_join_copy_group1_concated_with_null.replace(np.nan, 'null', inplace=True)\n",
    "    return left_join_copy_group1_concated_with_null \n",
    "# Later, I'll name the output to be fallBehind_with_nan_concated"
   ]
  },
  {
   "cell_type": "code",
   "execution_count": 14,
   "metadata": {},
   "outputs": [],
   "source": [
    "# fallBehind_with_nan_concated = fallBehind_filled_to_nan(left_join_df)"
   ]
  },
  {
   "cell_type": "code",
   "execution_count": 15,
   "metadata": {},
   "outputs": [
    {
     "name": "stderr",
     "output_type": "stream",
     "text": [
      "/opt/anaconda3/envs/dviz/lib/python3.8/site-packages/pandas/core/generic.py:5303: SettingWithCopyWarning: \n",
      "A value is trying to be set on a copy of a slice from a DataFrame.\n",
      "Try using .loc[row_indexer,col_indexer] = value instead\n",
      "\n",
      "See the caveats in the documentation: https://pandas.pydata.org/pandas-docs/stable/user_guide/indexing.html#returning-a-view-versus-a-copy\n",
      "  self[name] = value\n"
     ]
    }
   ],
   "source": [
    "fallBehind_with_null = fallBehind_filled_to_null(left_join_df)"
   ]
  },
  {
   "cell_type": "code",
   "execution_count": 16,
   "metadata": {},
   "outputs": [],
   "source": [
    "# fallBehind_with_null.replace(np.nan, 'null', inplace=True)"
   ]
  },
  {
   "cell_type": "code",
   "execution_count": 17,
   "metadata": {},
   "outputs": [],
   "source": [
    "# fallBehind_with_null[fallBehind_with_null.loc[:, 'country_code'] == 'BEL'].tail(10)"
   ]
  },
  {
   "cell_type": "code",
   "execution_count": 18,
   "metadata": {},
   "outputs": [],
   "source": [
    "# fallBehind_nan_changed[fallBehind_nan_changed.isnull().any(axis=1)]"
   ]
  },
  {
   "cell_type": "code",
   "execution_count": 19,
   "metadata": {},
   "outputs": [
    {
     "data": {
      "text/html": [
       "<div>\n",
       "<style scoped>\n",
       "    .dataframe tbody tr th:only-of-type {\n",
       "        vertical-align: middle;\n",
       "    }\n",
       "\n",
       "    .dataframe tbody tr th {\n",
       "        vertical-align: top;\n",
       "    }\n",
       "\n",
       "    .dataframe thead th {\n",
       "        text-align: right;\n",
       "    }\n",
       "</style>\n",
       "<table border=\"1\" class=\"dataframe\">\n",
       "  <thead>\n",
       "    <tr style=\"text-align: right;\">\n",
       "      <th></th>\n",
       "      <th>date</th>\n",
       "      <th>country_code</th>\n",
       "      <th>continent</th>\n",
       "      <th>country_name</th>\n",
       "      <th>total_cases</th>\n",
       "      <th>total_deaths</th>\n",
       "      <th>population</th>\n",
       "      <th>world_region</th>\n",
       "    </tr>\n",
       "  </thead>\n",
       "  <tbody>\n",
       "    <tr>\n",
       "      <th>58367</th>\n",
       "      <td>2020-11-04</td>\n",
       "      <td>SWE</td>\n",
       "      <td>Europe</td>\n",
       "      <td>Sweden</td>\n",
       "      <td>138507</td>\n",
       "      <td>6051</td>\n",
       "      <td>10099270.0</td>\n",
       "      <td>Europe &amp; Central Asia</td>\n",
       "    </tr>\n",
       "    <tr>\n",
       "      <th>58368</th>\n",
       "      <td>2020-11-05</td>\n",
       "      <td>SWE</td>\n",
       "      <td>Europe</td>\n",
       "      <td>Sweden</td>\n",
       "      <td>142993</td>\n",
       "      <td>6063</td>\n",
       "      <td>10099270.0</td>\n",
       "      <td>Europe &amp; Central Asia</td>\n",
       "    </tr>\n",
       "    <tr>\n",
       "      <th>58369</th>\n",
       "      <td>2020-11-06</td>\n",
       "      <td>SWE</td>\n",
       "      <td>Europe</td>\n",
       "      <td>Sweden</td>\n",
       "      <td>147737</td>\n",
       "      <td>6075</td>\n",
       "      <td>10099270.0</td>\n",
       "      <td>Europe &amp; Central Asia</td>\n",
       "    </tr>\n",
       "    <tr>\n",
       "      <th>58370</th>\n",
       "      <td>2020-11-07</td>\n",
       "      <td>SWE</td>\n",
       "      <td>Europe</td>\n",
       "      <td>Sweden</td>\n",
       "      <td>152193</td>\n",
       "      <td>6088</td>\n",
       "      <td>10099270.0</td>\n",
       "      <td>Europe &amp; Central Asia</td>\n",
       "    </tr>\n",
       "    <tr>\n",
       "      <th>58371</th>\n",
       "      <td>2020-11-08</td>\n",
       "      <td>SWE</td>\n",
       "      <td>Europe</td>\n",
       "      <td>Sweden</td>\n",
       "      <td>156653</td>\n",
       "      <td>6099</td>\n",
       "      <td>10099270.0</td>\n",
       "      <td>Europe &amp; Central Asia</td>\n",
       "    </tr>\n",
       "    <tr>\n",
       "      <th>58372</th>\n",
       "      <td>2020-11-09</td>\n",
       "      <td>SWE</td>\n",
       "      <td>Europe</td>\n",
       "      <td>Sweden</td>\n",
       "      <td>158767</td>\n",
       "      <td>6104</td>\n",
       "      <td>10099270.0</td>\n",
       "      <td>Europe &amp; Central Asia</td>\n",
       "    </tr>\n",
       "    <tr>\n",
       "      <th>58373</th>\n",
       "      <td>2020-11-10</td>\n",
       "      <td>SWE</td>\n",
       "      <td>Europe</td>\n",
       "      <td>Sweden</td>\n",
       "      <td>162507</td>\n",
       "      <td>6111</td>\n",
       "      <td>10099270.0</td>\n",
       "      <td>Europe &amp; Central Asia</td>\n",
       "    </tr>\n",
       "    <tr>\n",
       "      <th>58374</th>\n",
       "      <td>2020-11-11</td>\n",
       "      <td>SWE</td>\n",
       "      <td>Europe</td>\n",
       "      <td>Sweden</td>\n",
       "      <td>167069</td>\n",
       "      <td>6119</td>\n",
       "      <td>10099270.0</td>\n",
       "      <td>Europe &amp; Central Asia</td>\n",
       "    </tr>\n",
       "    <tr>\n",
       "      <th>58375</th>\n",
       "      <td>2020-11-12</td>\n",
       "      <td>SWE</td>\n",
       "      <td>Europe</td>\n",
       "      <td>Sweden</td>\n",
       "      <td>171365</td>\n",
       "      <td>6122</td>\n",
       "      <td>10099270.0</td>\n",
       "      <td>Europe &amp; Central Asia</td>\n",
       "    </tr>\n",
       "    <tr>\n",
       "      <th>58376</th>\n",
       "      <td>2020-11-13</td>\n",
       "      <td>SWE</td>\n",
       "      <td>Europe</td>\n",
       "      <td>Sweden</td>\n",
       "      <td>null</td>\n",
       "      <td>null</td>\n",
       "      <td>10099270.0</td>\n",
       "      <td>Europe &amp; Central Asia</td>\n",
       "    </tr>\n",
       "  </tbody>\n",
       "</table>\n",
       "</div>"
      ],
      "text/plain": [
       "             date country_code continent country_name total_cases  \\\n",
       "58367  2020-11-04          SWE    Europe       Sweden      138507   \n",
       "58368  2020-11-05          SWE    Europe       Sweden      142993   \n",
       "58369  2020-11-06          SWE    Europe       Sweden      147737   \n",
       "58370  2020-11-07          SWE    Europe       Sweden      152193   \n",
       "58371  2020-11-08          SWE    Europe       Sweden      156653   \n",
       "58372  2020-11-09          SWE    Europe       Sweden      158767   \n",
       "58373  2020-11-10          SWE    Europe       Sweden      162507   \n",
       "58374  2020-11-11          SWE    Europe       Sweden      167069   \n",
       "58375  2020-11-12          SWE    Europe       Sweden      171365   \n",
       "58376  2020-11-13          SWE    Europe       Sweden        null   \n",
       "\n",
       "      total_deaths  population           world_region  \n",
       "58367         6051  10099270.0  Europe & Central Asia  \n",
       "58368         6063  10099270.0  Europe & Central Asia  \n",
       "58369         6075  10099270.0  Europe & Central Asia  \n",
       "58370         6088  10099270.0  Europe & Central Asia  \n",
       "58371         6099  10099270.0  Europe & Central Asia  \n",
       "58372         6104  10099270.0  Europe & Central Asia  \n",
       "58373         6111  10099270.0  Europe & Central Asia  \n",
       "58374         6119  10099270.0  Europe & Central Asia  \n",
       "58375         6122  10099270.0  Europe & Central Asia  \n",
       "58376         null  10099270.0  Europe & Central Asia  "
      ]
     },
     "execution_count": 19,
     "metadata": {},
     "output_type": "execute_result"
    }
   ],
   "source": [
    "fallBehind_with_null[fallBehind_with_null.loc[:, 'country_code'] == 'SWE'].tail(10)"
   ]
  },
  {
   "cell_type": "code",
   "execution_count": 20,
   "metadata": {},
   "outputs": [],
   "source": [
    "def prepare_data_structure(df, gby=\"country_code\"): # input should be fallBehind_with_null\n",
    "    data = []\n",
    "    for g in df.groupby([gby]):\n",
    "        code = g[0]\n",
    "        cntry_df = g[1]\n",
    "        try:\n",
    "            country_data = {\n",
    "                \"country_code\": code,\n",
    "                \"country_name\": cntry_df.loc[:,\"country_name\"].iloc[0],\n",
    "                \"population\": cntry_df.loc[:,\"population\"].iloc[0],\n",
    "                \"region\": cntry_df.loc[:,\"world_region\"].iloc[0],\n",
    "                \"confirmed\": list(zip(cntry_df.date, cntry_df.total_cases)),\n",
    "                \"deaths\": list(zip(cntry_df.date, cntry_df.total_deaths)),\n",
    "            }\n",
    "            data.append(country_data)\n",
    "        except KeyError:\n",
    "            print(\"metadata doesn't exist for: \", code)\n",
    "            continue\n",
    "    return data"
   ]
  },
  {
   "cell_type": "code",
   "execution_count": 21,
   "metadata": {},
   "outputs": [],
   "source": [
    "data = prepare_data_structure(fallBehind_with_null)"
   ]
  },
  {
   "cell_type": "code",
   "execution_count": 22,
   "metadata": {},
   "outputs": [
    {
     "data": {
      "text/plain": [
       "2848214"
      ]
     },
     "execution_count": 22,
     "metadata": {},
     "output_type": "execute_result"
    }
   ],
   "source": [
    "open(\"../output/cntry_stat_owid.json\", \"w\").write(json.dumps(data, separators=(\",\", \":\")))"
   ]
  }
 ],
 "metadata": {
  "kernelspec": {
   "display_name": "dviz",
   "language": "python",
   "name": "dviz"
  },
  "language_info": {
   "codemirror_mode": {
    "name": "ipython",
    "version": 3
   },
   "file_extension": ".py",
   "mimetype": "text/x-python",
   "name": "python",
   "nbconvert_exporter": "python",
   "pygments_lexer": "ipython3",
   "version": "3.8.3"
  }
 },
 "nbformat": 4,
 "nbformat_minor": 4
}
