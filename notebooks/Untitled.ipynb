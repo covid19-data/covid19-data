{
 "cells": [
  {
   "cell_type": "code",
   "execution_count": 1,
   "metadata": {},
   "outputs": [],
   "source": [
    "import pandas as pd\n",
    "import numpy as np\n",
    "import json\n",
    "import math"
   ]
  },
  {
   "cell_type": "code",
   "execution_count": 151,
   "metadata": {},
   "outputs": [],
   "source": [
    "df = pd.read_csv(\"https://covid.ourworldindata.org/data/owid-covid-data.csv\", \n",
    "                     index_col = ['date'],\n",
    "                     parse_dates = True, \n",
    "                     usecols=[\"date\", \"iso_code\", \"location\", \n",
    "                              \"population\", \"continent\",\n",
    "                              \"total_cases\", \"total_deaths\"]).rename(\n",
    "    columns = {'iso_code': 'country_code', 'location': 'country_name'}\n",
    ")"
   ]
  },
  {
   "cell_type": "code",
   "execution_count": 188,
   "metadata": {},
   "outputs": [],
   "source": [
    "# prepare metadata from World Bank\n",
    "metadata = pd.read_csv(\"https://raw.githubusercontent.com/hongtaoh/covid19-data/master/data_sources/metadata/worldbank/country_metadata.csv\",\n",
    "                      usecols=[\"Country Code\", \"Region\"]).rename(\n",
    "    columns = {'Country Code': 'country_code', 'Region': 'world_region'}\n",
    ")"
   ]
  },
  {
   "cell_type": "code",
   "execution_count": 189,
   "metadata": {},
   "outputs": [],
   "source": [
    "all_dates = pd.date_range(df.index.min(), df.index.max())"
   ]
  },
  {
   "cell_type": "code",
   "execution_count": 190,
   "metadata": {},
   "outputs": [],
   "source": [
    "def get_fallBehind_place_date_dateframe(df):\n",
    "    fallBehind_place_list = []\n",
    "    fallBehind_last_date_list = []\n",
    "    fallBehind_last_date_index_list = []\n",
    "    for group in df.groupby(\"country_code\"):\n",
    "        if group[1].tail(1).index != df.index.max():\n",
    "            fallBehind_place_list.append(group[0])\n",
    "    for p in fallBehind_place_list:\n",
    "        fallBehind_last_date_index_list.append(all_dates.get_loc(\n",
    "            df[df.loc[:, 'country_code']== p].index[-1].strftime(\"%Y-%m-%d\")))\n",
    "        fallBehind_last_date_list.append(\n",
    "            df[df.loc[:, 'country_code']== p].index[-1].strftime(\"%Y-%m-%d\"))\n",
    "    d = {'fallBehind_place': fallBehind_place_list, \n",
    "         'fallBehind_last_date': fallBehind_last_date_list,\n",
    "         'fallBehind_last_date_index': fallBehind_last_date_index_list}\n",
    "    fallBehind_list = pd.DataFrame(data = d)\n",
    "    return fallBehind_list"
   ]
  },
  {
   "cell_type": "code",
   "execution_count": 191,
   "metadata": {},
   "outputs": [
    {
     "data": {
      "text/html": [
       "<div>\n",
       "<style scoped>\n",
       "    .dataframe tbody tr th:only-of-type {\n",
       "        vertical-align: middle;\n",
       "    }\n",
       "\n",
       "    .dataframe tbody tr th {\n",
       "        vertical-align: top;\n",
       "    }\n",
       "\n",
       "    .dataframe thead th {\n",
       "        text-align: right;\n",
       "    }\n",
       "</style>\n",
       "<table border=\"1\" class=\"dataframe\">\n",
       "  <thead>\n",
       "    <tr style=\"text-align: right;\">\n",
       "      <th></th>\n",
       "      <th>fallBehind_place</th>\n",
       "      <th>fallBehind_last_date</th>\n",
       "      <th>fallBehind_last_date_index</th>\n",
       "    </tr>\n",
       "  </thead>\n",
       "  <tbody>\n",
       "    <tr>\n",
       "      <th>0</th>\n",
       "      <td>BEL</td>\n",
       "      <td>2020-11-08</td>\n",
       "      <td>313</td>\n",
       "    </tr>\n",
       "    <tr>\n",
       "      <th>1</th>\n",
       "      <td>ESP</td>\n",
       "      <td>2020-11-09</td>\n",
       "      <td>314</td>\n",
       "    </tr>\n",
       "    <tr>\n",
       "      <th>2</th>\n",
       "      <td>HKG</td>\n",
       "      <td>2020-11-03</td>\n",
       "      <td>308</td>\n",
       "    </tr>\n",
       "    <tr>\n",
       "      <th>3</th>\n",
       "      <td>SWE</td>\n",
       "      <td>2020-11-06</td>\n",
       "      <td>311</td>\n",
       "    </tr>\n",
       "  </tbody>\n",
       "</table>\n",
       "</div>"
      ],
      "text/plain": [
       "  fallBehind_place fallBehind_last_date  fallBehind_last_date_index\n",
       "0              BEL           2020-11-08                         313\n",
       "1              ESP           2020-11-09                         314\n",
       "2              HKG           2020-11-03                         308\n",
       "3              SWE           2020-11-06                         311"
      ]
     },
     "execution_count": 191,
     "metadata": {},
     "output_type": "execute_result"
    }
   ],
   "source": [
    "fallBehind_list = get_fallBehind_place_date_dateframe(df)\n",
    "fallBehind_list"
   ]
  },
  {
   "cell_type": "code",
   "execution_count": 192,
   "metadata": {},
   "outputs": [],
   "source": [
    "def extract_cntry_dfs(df): \n",
    "    dfs = []\n",
    "    for group in df.groupby(\"country_code\"):\n",
    "        cntry_df = (\n",
    "            group[1].reindex(all_dates, method=\"pad\")\n",
    "        )\n",
    "        cntry_df[\"total_cases\"] = cntry_df[\"total_cases\"]\n",
    "        cntry_df[\"total_deaths\"] = cntry_df[\"total_deaths\"]\n",
    "        cntry_df[\"country_code\"] = group[0]\n",
    "        cntry_df[\"country_name\"] = group[1][\"country_name\"][-1]\n",
    "        cntry_df[\"continent\"] = group[1][\"continent\"][-1]\n",
    "        cntry_df[\"population\"] = group[1][\"population\"][-1]\n",
    "        dfs.append(\n",
    "            cntry_df\n",
    "        )\n",
    "    return dfs"
   ]
  },
  {
   "cell_type": "code",
   "execution_count": 193,
   "metadata": {},
   "outputs": [],
   "source": [
    "dfs = extract_cntry_dfs(df)"
   ]
  },
  {
   "cell_type": "code",
   "execution_count": 194,
   "metadata": {},
   "outputs": [],
   "source": [
    "def fill_first_case_death_with_zero(df): # input is dfs\n",
    "    for i in np.arange(0, len(df)):\n",
    "        if (df[i].head(1).total_cases.isnull()[0] & df[i].head(1).total_deaths.isnull()[0]):\n",
    "            df[i][0:1] = [df[i].country_code[-1],\n",
    "            df[i].continent[-1],\n",
    "            df[i].country_name[-1],\n",
    "            0,\n",
    "            0, \n",
    "            df[i].population[-1]\n",
    "            ]\n",
    "        if (df[i].head(1).total_cases.isnull()[0] & df[i].head(1).total_deaths.notnull()[0]):\n",
    "            df[i][0:1] = [df[i].country_code[-1],\n",
    "            df[i].continent[-1],\n",
    "            df[i].country_name[-1],\n",
    "            0,\n",
    "            df[i].total_deaths[0],\n",
    "            df[i].population[-1]\n",
    "            ]\n",
    "        if (df[i].head(1).total_cases.notnull()[0] & df[i].head(1).total_deaths.isnull()[0]):\n",
    "            df[i][0:1] = [df[i].country_code[-1],\n",
    "            df[i].continent[-1],\n",
    "            df[i].country_name[-1],\n",
    "            df[i].total_cases[0],\n",
    "            0,\n",
    "            df[i].population[-1]\n",
    "            ]\n",
    "    return df # output is the dfs with first case & death conditionally filled with zero. \n",
    "              # Later, I name this output to be \"dfs_first_zero_filled\" "
   ]
  },
  {
   "cell_type": "code",
   "execution_count": 195,
   "metadata": {},
   "outputs": [],
   "source": [
    "dfs_first_zero_filled = fill_first_case_death_with_zero(dfs)"
   ]
  },
  {
   "cell_type": "code",
   "execution_count": 196,
   "metadata": {},
   "outputs": [],
   "source": [
    "def merge_with_meta(df): #input should be dfs_first_zero_filled\n",
    "    concat_df = pd.concat(df).fillna(method=\"ffill\").reset_index().rename(\n",
    "        columns={\"index\": \"date\"})\n",
    "    #To change the original country codes of \"KOS\" and World to match metadata from WB:\n",
    "    concat_df.loc[(concat_df.country_code == \"OWID_KOS\"), ('country_code')] = \"XKX\"\n",
    "    concat_df.loc[(concat_df.country_code == \"OWID_WRL\"), ('country_code')] = \"WLD\"\n",
    "    # To get the column of \"world_region\" in concat_df by merging with WB metadata\n",
    "    left_join_df = pd.merge(concat_df, metadata, on = \"country_code\", how = \"left\")\n",
    "    left_join_df.loc[:,'date'] = left_join_df.loc[:,'date'].dt.strftime('%Y-%m-%d')\n",
    "    left_join_df.loc[(left_join_df.country_code == \"AIA\"), ('world_region')] = \"Latin America & Caribbean\"\n",
    "    left_join_df.loc[(left_join_df.country_code == \"BES\"), ('world_region')] = \"Latin America & Caribbean\"\n",
    "    left_join_df.loc[(left_join_df.country_code == \"ESH\"), ('world_region')] = \"Middle East & North Africa\"\n",
    "    left_join_df.loc[(left_join_df.country_code == \"FLK\"), ('world_region')] = \"Latin America & Caribbean\"\n",
    "    left_join_df.loc[(left_join_df.country_code == \"GGY\"), ('world_region')] = \"Europe & Central Asia\"\n",
    "    left_join_df.loc[(left_join_df.country_code == \"JEY\"), ('world_region')] = \"Europe & Central Asia\"\n",
    "    left_join_df.loc[(left_join_df.country_code == \"MSR\"), ('world_region')] = \"Latin America & Caribbean\"\n",
    "    left_join_df.loc[(left_join_df.country_code == \"TWN\"), ('world_region')] = \"East Asia & Pacific\"\n",
    "    left_join_df.loc[(left_join_df.country_code == \"VAT\"), ('world_region')] = \"Europe & Central Asia\"\n",
    "    left_join_df.loc[(left_join_df.country_code == \"WLF\"), ('world_region')] = \"East Asia & Pacific\"\n",
    "    left_join_df.loc[(left_join_df.country_code == \"WLD\"), ('world_region')] = \"World\"\n",
    "    return left_join_df"
   ]
  },
  {
   "cell_type": "code",
   "execution_count": 202,
   "metadata": {},
   "outputs": [],
   "source": [
    "left_join_df = merge_with_meta(dfs_first_zero_filled)"
   ]
  },
  {
   "cell_type": "code",
   "execution_count": 223,
   "metadata": {},
   "outputs": [],
   "source": [
    "def fallBehind_zero_to_nan (df): # input should be left_join_df\n",
    "    left_join_copy_group1 = []\n",
    "    for group in df.groupby('country_code'):\n",
    "        for i in np.arange(0, len(fallBehind_list)):\n",
    "            if group[1].tail(1).country_code.iloc[0] == fallBehind_list.iloc[i, 0]:\n",
    "                group[1].tail(len(all_dates) - 1 - fallBehind_list.iloc[i, 2]).total_cases = np.nan\n",
    "                group[1].tail(len(all_dates) - 1 - fallBehind_list.iloc[i, 2]).total_deaths = np.nan\n",
    "        left_join_copy_group1.append(group[1])\n",
    "    return left_join_copy_group # I will name the output later to be f1allBehind_nan_changed"
   ]
  },
  {
   "cell_type": "code",
   "execution_count": 222,
   "metadata": {},
   "outputs": [
    {
     "name": "stderr",
     "output_type": "stream",
     "text": [
      "/opt/anaconda3/envs/dviz/lib/python3.8/site-packages/pandas/core/generic.py:5303: SettingWithCopyWarning: \n",
      "A value is trying to be set on a copy of a slice from a DataFrame.\n",
      "Try using .loc[row_indexer,col_indexer] = value instead\n",
      "\n",
      "See the caveats in the documentation: https://pandas.pydata.org/pandas-docs/stable/user_guide/indexing.html#returning-a-view-versus-a-copy\n",
      "  self[name] = value\n"
     ]
    },
    {
     "ename": "AttributeError",
     "evalue": "'list' object has no attribute 'replace'",
     "output_type": "error",
     "traceback": [
      "\u001b[0;31m---------------------------------------------------------------------------\u001b[0m",
      "\u001b[0;31mAttributeError\u001b[0m                            Traceback (most recent call last)",
      "\u001b[0;32m<ipython-input-222-84b901fa5002>\u001b[0m in \u001b[0;36m<module>\u001b[0;34m\u001b[0m\n\u001b[0;32m----> 1\u001b[0;31m \u001b[0mfallBehind_nan_changed\u001b[0m \u001b[0;34m=\u001b[0m \u001b[0mpd\u001b[0m\u001b[0;34m.\u001b[0m\u001b[0mconcat\u001b[0m\u001b[0;34m(\u001b[0m\u001b[0mfallBehind_zero_to_nan\u001b[0m\u001b[0;34m(\u001b[0m\u001b[0mleft_join_df\u001b[0m\u001b[0;34m)\u001b[0m\u001b[0;34m)\u001b[0m\u001b[0;34m\u001b[0m\u001b[0;34m\u001b[0m\u001b[0m\n\u001b[0m",
      "\u001b[0;32m<ipython-input-221-47261a1a5ceb>\u001b[0m in \u001b[0;36mfallBehind_zero_to_nan\u001b[0;34m(df)\u001b[0m\n\u001b[1;32m      7\u001b[0m                 \u001b[0mgroup\u001b[0m\u001b[0;34m[\u001b[0m\u001b[0;36m1\u001b[0m\u001b[0;34m]\u001b[0m\u001b[0;34m.\u001b[0m\u001b[0mtail\u001b[0m\u001b[0;34m(\u001b[0m\u001b[0mlen\u001b[0m\u001b[0;34m(\u001b[0m\u001b[0mall_dates\u001b[0m\u001b[0;34m)\u001b[0m \u001b[0;34m-\u001b[0m \u001b[0;36m1\u001b[0m \u001b[0;34m-\u001b[0m \u001b[0mfallBehind_list\u001b[0m\u001b[0;34m.\u001b[0m\u001b[0miloc\u001b[0m\u001b[0;34m[\u001b[0m\u001b[0mi\u001b[0m\u001b[0;34m,\u001b[0m \u001b[0;36m2\u001b[0m\u001b[0;34m]\u001b[0m\u001b[0;34m)\u001b[0m\u001b[0;34m.\u001b[0m\u001b[0mtotal_deaths\u001b[0m \u001b[0;34m=\u001b[0m \u001b[0mnp\u001b[0m\u001b[0;34m.\u001b[0m\u001b[0mnan\u001b[0m\u001b[0;34m\u001b[0m\u001b[0;34m\u001b[0m\u001b[0m\n\u001b[1;32m      8\u001b[0m         \u001b[0mleft_join_copy_group1\u001b[0m\u001b[0;34m.\u001b[0m\u001b[0mappend\u001b[0m\u001b[0;34m(\u001b[0m\u001b[0mgroup\u001b[0m\u001b[0;34m[\u001b[0m\u001b[0;36m1\u001b[0m\u001b[0;34m]\u001b[0m\u001b[0;34m)\u001b[0m\u001b[0;34m\u001b[0m\u001b[0;34m\u001b[0m\u001b[0m\n\u001b[0;32m----> 9\u001b[0;31m     \u001b[0;32mreturn\u001b[0m \u001b[0mleft_join_copy_group1\u001b[0m\u001b[0;34m.\u001b[0m\u001b[0mreplace\u001b[0m\u001b[0;34m(\u001b[0m\u001b[0mnp\u001b[0m\u001b[0;34m.\u001b[0m\u001b[0mnan\u001b[0m\u001b[0;34m,\u001b[0m \u001b[0;34m'null'\u001b[0m\u001b[0;34m,\u001b[0m \u001b[0minplace\u001b[0m\u001b[0;34m=\u001b[0m\u001b[0;32mTrue\u001b[0m\u001b[0;34m)\u001b[0m \u001b[0;31m# I will name the output later to be fallBehind_nan_changed\u001b[0m\u001b[0;34m\u001b[0m\u001b[0;34m\u001b[0m\u001b[0m\n\u001b[0m",
      "\u001b[0;31mAttributeError\u001b[0m: 'list' object has no attribute 'replace'"
     ]
    }
   ],
   "source": [
    "fallBehind_nan_changed = pd.concat(fallBehind_zero_to_nan(left_join_df))"
   ]
  },
  {
   "cell_type": "code",
   "execution_count": 218,
   "metadata": {},
   "outputs": [],
   "source": [
    "fallBehind_nan_changed"
   ]
  },
  {
   "cell_type": "code",
   "execution_count": 219,
   "metadata": {},
   "outputs": [
    {
     "data": {
      "text/html": [
       "<div>\n",
       "<style scoped>\n",
       "    .dataframe tbody tr th:only-of-type {\n",
       "        vertical-align: middle;\n",
       "    }\n",
       "\n",
       "    .dataframe tbody tr th {\n",
       "        vertical-align: top;\n",
       "    }\n",
       "\n",
       "    .dataframe thead th {\n",
       "        text-align: right;\n",
       "    }\n",
       "</style>\n",
       "<table border=\"1\" class=\"dataframe\">\n",
       "  <thead>\n",
       "    <tr style=\"text-align: right;\">\n",
       "      <th></th>\n",
       "      <th>date</th>\n",
       "      <th>country_code</th>\n",
       "      <th>continent</th>\n",
       "      <th>country_name</th>\n",
       "      <th>total_cases</th>\n",
       "      <th>total_deaths</th>\n",
       "      <th>population</th>\n",
       "      <th>world_region</th>\n",
       "    </tr>\n",
       "  </thead>\n",
       "  <tbody>\n",
       "  </tbody>\n",
       "</table>\n",
       "</div>"
      ],
      "text/plain": [
       "Empty DataFrame\n",
       "Columns: [date, country_code, continent, country_name, total_cases, total_deaths, population, world_region]\n",
       "Index: []"
      ]
     },
     "execution_count": 219,
     "metadata": {},
     "output_type": "execute_result"
    }
   ],
   "source": [
    "fallBehind_nan_changed[fallBehind_nan_changed.isnull().any(axis=1)]"
   ]
  },
  {
   "cell_type": "code",
   "execution_count": 220,
   "metadata": {},
   "outputs": [
    {
     "data": {
      "text/html": [
       "<div>\n",
       "<style scoped>\n",
       "    .dataframe tbody tr th:only-of-type {\n",
       "        vertical-align: middle;\n",
       "    }\n",
       "\n",
       "    .dataframe tbody tr th {\n",
       "        vertical-align: top;\n",
       "    }\n",
       "\n",
       "    .dataframe thead th {\n",
       "        text-align: right;\n",
       "    }\n",
       "</style>\n",
       "<table border=\"1\" class=\"dataframe\">\n",
       "  <thead>\n",
       "    <tr style=\"text-align: right;\">\n",
       "      <th></th>\n",
       "      <th>date</th>\n",
       "      <th>country_code</th>\n",
       "      <th>continent</th>\n",
       "      <th>country_name</th>\n",
       "      <th>total_cases</th>\n",
       "      <th>total_deaths</th>\n",
       "      <th>population</th>\n",
       "      <th>world_region</th>\n",
       "    </tr>\n",
       "  </thead>\n",
       "  <tbody>\n",
       "    <tr>\n",
       "      <th>4730</th>\n",
       "      <td>2020-11-01</td>\n",
       "      <td>BEL</td>\n",
       "      <td>Europe</td>\n",
       "      <td>Belgium</td>\n",
       "      <td>448471</td>\n",
       "      <td>11836</td>\n",
       "      <td>11589616.0</td>\n",
       "      <td>Europe &amp; Central Asia</td>\n",
       "    </tr>\n",
       "    <tr>\n",
       "      <th>4731</th>\n",
       "      <td>2020-11-02</td>\n",
       "      <td>BEL</td>\n",
       "      <td>Europe</td>\n",
       "      <td>Belgium</td>\n",
       "      <td>451133</td>\n",
       "      <td>11993</td>\n",
       "      <td>11589616.0</td>\n",
       "      <td>Europe &amp; Central Asia</td>\n",
       "    </tr>\n",
       "    <tr>\n",
       "      <th>4732</th>\n",
       "      <td>2020-11-03</td>\n",
       "      <td>BEL</td>\n",
       "      <td>Europe</td>\n",
       "      <td>Belgium</td>\n",
       "      <td>464912</td>\n",
       "      <td>12194</td>\n",
       "      <td>11589616.0</td>\n",
       "      <td>Europe &amp; Central Asia</td>\n",
       "    </tr>\n",
       "    <tr>\n",
       "      <th>4733</th>\n",
       "      <td>2020-11-04</td>\n",
       "      <td>BEL</td>\n",
       "      <td>Europe</td>\n",
       "      <td>Belgium</td>\n",
       "      <td>476916</td>\n",
       "      <td>12362</td>\n",
       "      <td>11589616.0</td>\n",
       "      <td>Europe &amp; Central Asia</td>\n",
       "    </tr>\n",
       "    <tr>\n",
       "      <th>4734</th>\n",
       "      <td>2020-11-05</td>\n",
       "      <td>BEL</td>\n",
       "      <td>Europe</td>\n",
       "      <td>Belgium</td>\n",
       "      <td>486052</td>\n",
       "      <td>12550</td>\n",
       "      <td>11589616.0</td>\n",
       "      <td>Europe &amp; Central Asia</td>\n",
       "    </tr>\n",
       "    <tr>\n",
       "      <th>4735</th>\n",
       "      <td>2020-11-06</td>\n",
       "      <td>BEL</td>\n",
       "      <td>Europe</td>\n",
       "      <td>Belgium</td>\n",
       "      <td>493601</td>\n",
       "      <td>12742</td>\n",
       "      <td>11589616.0</td>\n",
       "      <td>Europe &amp; Central Asia</td>\n",
       "    </tr>\n",
       "    <tr>\n",
       "      <th>4736</th>\n",
       "      <td>2020-11-07</td>\n",
       "      <td>BEL</td>\n",
       "      <td>Europe</td>\n",
       "      <td>Belgium</td>\n",
       "      <td>500002</td>\n",
       "      <td>12917</td>\n",
       "      <td>11589616.0</td>\n",
       "      <td>Europe &amp; Central Asia</td>\n",
       "    </tr>\n",
       "    <tr>\n",
       "      <th>4737</th>\n",
       "      <td>2020-11-08</td>\n",
       "      <td>BEL</td>\n",
       "      <td>Europe</td>\n",
       "      <td>Belgium</td>\n",
       "      <td>502452</td>\n",
       "      <td>13066</td>\n",
       "      <td>11589616.0</td>\n",
       "      <td>Europe &amp; Central Asia</td>\n",
       "    </tr>\n",
       "    <tr>\n",
       "      <th>4738</th>\n",
       "      <td>2020-11-09</td>\n",
       "      <td>BEL</td>\n",
       "      <td>Europe</td>\n",
       "      <td>Belgium</td>\n",
       "      <td>null</td>\n",
       "      <td>null</td>\n",
       "      <td>11589616.0</td>\n",
       "      <td>Europe &amp; Central Asia</td>\n",
       "    </tr>\n",
       "    <tr>\n",
       "      <th>4739</th>\n",
       "      <td>2020-11-10</td>\n",
       "      <td>BEL</td>\n",
       "      <td>Europe</td>\n",
       "      <td>Belgium</td>\n",
       "      <td>null</td>\n",
       "      <td>null</td>\n",
       "      <td>11589616.0</td>\n",
       "      <td>Europe &amp; Central Asia</td>\n",
       "    </tr>\n",
       "  </tbody>\n",
       "</table>\n",
       "</div>"
      ],
      "text/plain": [
       "            date country_code continent country_name total_cases total_deaths  \\\n",
       "4730  2020-11-01          BEL    Europe      Belgium      448471        11836   \n",
       "4731  2020-11-02          BEL    Europe      Belgium      451133        11993   \n",
       "4732  2020-11-03          BEL    Europe      Belgium      464912        12194   \n",
       "4733  2020-11-04          BEL    Europe      Belgium      476916        12362   \n",
       "4734  2020-11-05          BEL    Europe      Belgium      486052        12550   \n",
       "4735  2020-11-06          BEL    Europe      Belgium      493601        12742   \n",
       "4736  2020-11-07          BEL    Europe      Belgium      500002        12917   \n",
       "4737  2020-11-08          BEL    Europe      Belgium      502452        13066   \n",
       "4738  2020-11-09          BEL    Europe      Belgium        null         null   \n",
       "4739  2020-11-10          BEL    Europe      Belgium        null         null   \n",
       "\n",
       "      population           world_region  \n",
       "4730  11589616.0  Europe & Central Asia  \n",
       "4731  11589616.0  Europe & Central Asia  \n",
       "4732  11589616.0  Europe & Central Asia  \n",
       "4733  11589616.0  Europe & Central Asia  \n",
       "4734  11589616.0  Europe & Central Asia  \n",
       "4735  11589616.0  Europe & Central Asia  \n",
       "4736  11589616.0  Europe & Central Asia  \n",
       "4737  11589616.0  Europe & Central Asia  \n",
       "4738  11589616.0  Europe & Central Asia  \n",
       "4739  11589616.0  Europe & Central Asia  "
      ]
     },
     "execution_count": 220,
     "metadata": {},
     "output_type": "execute_result"
    }
   ],
   "source": [
    "fallBehind_nan_changed[fallBehind_nan_changed.loc[:, 'country_code'] == 'BEL'].tail(10)"
   ]
  },
  {
   "cell_type": "code",
   "execution_count": 127,
   "metadata": {},
   "outputs": [],
   "source": [
    "def prepare_data_structure(df, gby=\"country_code\"): # input should be fallBehind_nan_changed\n",
    "    data = []\n",
    "    for g in df.groupby([gby]):\n",
    "        code = g[0]\n",
    "        cntry_df = g[1]\n",
    "        try:\n",
    "            country_data = {\n",
    "                \"country_code\": code,\n",
    "                \"country_name\": cntry_df.loc[:,\"country_name\"].iloc[0],\n",
    "                \"population\": cntry_df.loc[:,\"population\"].iloc[0],\n",
    "                \"region\": cntry_df.loc[:,\"world_region\"].iloc[0],\n",
    "                \"confirmed\": list(zip(cntry_df.date, cntry_df.total_cases)),\n",
    "                \"deaths\": list(zip(cntry_df.date, cntry_df.total_deaths)),\n",
    "            }\n",
    "            data.append(country_data)\n",
    "        except KeyError:\n",
    "            print(\"metadata doesn't exist for: \", code)\n",
    "            continue\n",
    "    return data"
   ]
  },
  {
   "cell_type": "code",
   "execution_count": 133,
   "metadata": {},
   "outputs": [],
   "source": [
    "data = prepare_data_structure(fallBehind_nan_changed)"
   ]
  },
  {
   "cell_type": "code",
   "execution_count": 134,
   "metadata": {},
   "outputs": [
    {
     "data": {
      "text/plain": [
       "2807997"
      ]
     },
     "execution_count": 134,
     "metadata": {},
     "output_type": "execute_result"
    }
   ],
   "source": [
    "open(\"/Users/Tal/Desktop/covid19-data/output/cntry_stat_owid.json\", \"w\").write(\n",
    "    json.dumps(data, separators=(\",\", \":\")))"
   ]
  }
 ],
 "metadata": {
  "kernelspec": {
   "display_name": "dviz",
   "language": "python",
   "name": "dviz"
  },
  "language_info": {
   "codemirror_mode": {
    "name": "ipython",
    "version": 3
   },
   "file_extension": ".py",
   "mimetype": "text/x-python",
   "name": "python",
   "nbconvert_exporter": "python",
   "pygments_lexer": "ipython3",
   "version": "3.8.3"
  }
 },
 "nbformat": 4,
 "nbformat_minor": 4
}
